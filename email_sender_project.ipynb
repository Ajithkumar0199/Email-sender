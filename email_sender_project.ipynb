{
 "cells": [
  {
   "cell_type": "markdown",
   "id": "a4c5946d",
   "metadata": {},
   "source": [
    "\n",
    "# Email-sender"
   ]
  },
  {
   "cell_type": "code",
   "execution_count": null,
   "id": "6f8fe2c8",
   "metadata": {},
   "outputs": [],
   "source": [
    "import smtplib , ssl\n",  # SMPT - Simple Mail Transfer Protocol , SSL - Secure Socket Layer , IANA - Internet Assigned Number Authority
    "import getpass\n", # to hide your password while typing
    "\n",
    "server = smtplib.SMTP_SSL(\"smtp.gmail.com\",465)\n", #IANA initially assigned port 465 for an encrypted version of SMTP called SMTPS. Initially, it was proposed to send emails using the(SSL).
    "server.starttls\n",  #The STARTTLS command establishes a secure communication session with an email server, similarly to the SSL command
    "password = getpass.getpass()\n", #get password securly
    "server.login(\"ajithkumarjan0199@gmail.com\",password)\n",
    "server.sendmail(\"ajithkumarjan0199@gmail.com\", \"ajitkumarjan0199@gmail.com\",\"i am ajithkumar\")\n",
    "server.quit()"
   ]
  },
  {
   "cell_type": "code",
   "execution_count": null,
   "id": "2d2824c4",
   "metadata": {},
   "outputs": [],
   "source": []
  }
 ],
 "metadata": {
  "kernelspec": {
   "display_name": "Python 3 (ipykernel)",
   "language": "python",
   "name": "python3"
  },
  "language_info": {
   "codemirror_mode": {
    "name": "ipython",
    "version": 3
   },
   "file_extension": ".py",
   "mimetype": "text/x-python",
   "name": "python",
   "nbconvert_exporter": "python",
   "pygments_lexer": "ipython3",
   "version": "3.9.12"
  }
 },
 "nbformat": 4,
 "nbformat_minor": 5
}
